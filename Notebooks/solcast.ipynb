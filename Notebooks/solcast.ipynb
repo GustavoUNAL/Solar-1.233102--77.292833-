{
 "cells": [
  {
   "cell_type": "markdown",
   "metadata": {},
   "source": [
    "# Key Concepts \n",
    "\n",
    "#### GHI (Global Horizontal Irradiance) [W/m2]: \n",
    "Se refiere a la radiación solar total recibida por la superficie horizontal de la Tierra, incluyendo la radiación directa del sol, la radiación difusa (reflejada por la atmósfera) y la radiación del cielo nublado.\n",
    "#### DNI (Direct Normal Irradiance) [W/m2]: \n",
    "Es la cantidad de radiación solar directa recibida por un panel solar colocado perpendicularmente al sol. No incluye la radiación difusa ni la radiación reflejada.\n",
    "#### DHI (Diffuse Horizontal Irradiance) [W/m2]: \n",
    "Se refiere a la radiación solar difusa que llega a la superficie de la Tierra proveniente de todas las direcciones del cielo, excepto la radiación directa del sol.\n",
    "#### EBH (Extra-terrestrial Beam Horizontal): \n",
    "Es la radiación solar directa que llegaría a la superficie de la Tierra si la atmósfera no estuviera presente. Representa la radiación solar directa del sol en el espacio.\n",
    "#### Cloud Opacity (Cloudiness): \n",
    "Es la medida de la opacidad de las nubes en el cielo. Indica cuánto del cielo está cubierto por nubes y afecta la cantidad de radiación solar que llega a la superficie."
   ]
  },
  {
   "cell_type": "markdown",
   "metadata": {},
   "source": [
    "## Import Libraries"
   ]
  },
  {
   "cell_type": "markdown",
   "metadata": {},
   "source": []
  },
  {
   "cell_type": "code",
   "execution_count": 77,
   "metadata": {},
   "outputs": [],
   "source": [
    "import numpy as np            # manejo arreglos\n",
    "import pandas as pd           # manipulación dataframes      \n",
    "import matplotlib.pyplot as plt    # Realiza graficas\n",
    "import pytz                        # manipulación de zonas horarias                     \n",
    "from datetime import datetime, date, timedelta  # manipulacion de fechas y horas"
   ]
  },
  {
   "cell_type": "markdown",
   "metadata": {},
   "source": [
    "## Read CSV File"
   ]
  },
  {
   "cell_type": "code",
   "execution_count": 78,
   "metadata": {},
   "outputs": [
    {
     "name": "stderr",
     "output_type": "stream",
     "text": [
      "<>:12: SyntaxWarning: invalid escape sequence '\\d'\n",
      "<>:14: SyntaxWarning: invalid escape sequence '\\d'\n",
      "<>:12: SyntaxWarning: invalid escape sequence '\\d'\n",
      "<>:14: SyntaxWarning: invalid escape sequence '\\d'\n",
      "/var/folders/pz/w3bcsy5x2wgb_7c0fs6qmkp80000gn/T/ipykernel_23052/1677865947.py:12: SyntaxWarning: invalid escape sequence '\\d'\n",
      "  df['Time'] = df['period_end'].str.extract('T(\\d{2}:\\d{2})')\n",
      "/var/folders/pz/w3bcsy5x2wgb_7c0fs6qmkp80000gn/T/ipykernel_23052/1677865947.py:14: SyntaxWarning: invalid escape sequence '\\d'\n",
      "  df['Date'] = df['period_end'].str.extract('(\\d{4}-\\d{2}-\\d{2})')\n"
     ]
    },
    {
     "name": "stdout",
     "output_type": "stream",
     "text": [
      "   dhi  DHI  GHI            period_end period   Time        Date\n",
      "0    0    0    0  2023-01-01T00:05:00Z   PT5M  00:05  2023-01-01\n",
      "1    0    0    0  2023-01-01T00:10:00Z   PT5M  00:10  2023-01-01\n",
      "2    0    0    0  2023-01-01T00:15:00Z   PT5M  00:15  2023-01-01\n",
      "3    0    0    0  2023-01-01T00:20:00Z   PT5M  00:20  2023-01-01\n",
      "4    0    0    0  2023-01-01T00:25:00Z   PT5M  00:25  2023-01-01\n",
      "(105120, 7)\n"
     ]
    },
    {
     "data": {
      "text/html": [
       "<div>\n",
       "<style scoped>\n",
       "    .dataframe tbody tr th:only-of-type {\n",
       "        vertical-align: middle;\n",
       "    }\n",
       "\n",
       "    .dataframe tbody tr th {\n",
       "        vertical-align: top;\n",
       "    }\n",
       "\n",
       "    .dataframe thead th {\n",
       "        text-align: right;\n",
       "    }\n",
       "</style>\n",
       "<table border=\"1\" class=\"dataframe\">\n",
       "  <thead>\n",
       "    <tr style=\"text-align: right;\">\n",
       "      <th></th>\n",
       "      <th>dhi</th>\n",
       "      <th>DHI</th>\n",
       "      <th>GHI</th>\n",
       "      <th>period_end</th>\n",
       "      <th>period</th>\n",
       "      <th>Time</th>\n",
       "      <th>Date</th>\n",
       "    </tr>\n",
       "  </thead>\n",
       "  <tbody>\n",
       "    <tr>\n",
       "      <th>0</th>\n",
       "      <td>0</td>\n",
       "      <td>0</td>\n",
       "      <td>0</td>\n",
       "      <td>2023-01-01T00:05:00Z</td>\n",
       "      <td>PT5M</td>\n",
       "      <td>00:05</td>\n",
       "      <td>2023-01-01</td>\n",
       "    </tr>\n",
       "    <tr>\n",
       "      <th>1</th>\n",
       "      <td>0</td>\n",
       "      <td>0</td>\n",
       "      <td>0</td>\n",
       "      <td>2023-01-01T00:10:00Z</td>\n",
       "      <td>PT5M</td>\n",
       "      <td>00:10</td>\n",
       "      <td>2023-01-01</td>\n",
       "    </tr>\n",
       "    <tr>\n",
       "      <th>2</th>\n",
       "      <td>0</td>\n",
       "      <td>0</td>\n",
       "      <td>0</td>\n",
       "      <td>2023-01-01T00:15:00Z</td>\n",
       "      <td>PT5M</td>\n",
       "      <td>00:15</td>\n",
       "      <td>2023-01-01</td>\n",
       "    </tr>\n",
       "    <tr>\n",
       "      <th>3</th>\n",
       "      <td>0</td>\n",
       "      <td>0</td>\n",
       "      <td>0</td>\n",
       "      <td>2023-01-01T00:20:00Z</td>\n",
       "      <td>PT5M</td>\n",
       "      <td>00:20</td>\n",
       "      <td>2023-01-01</td>\n",
       "    </tr>\n",
       "    <tr>\n",
       "      <th>4</th>\n",
       "      <td>0</td>\n",
       "      <td>0</td>\n",
       "      <td>0</td>\n",
       "      <td>2023-01-01T00:25:00Z</td>\n",
       "      <td>PT5M</td>\n",
       "      <td>00:25</td>\n",
       "      <td>2023-01-01</td>\n",
       "    </tr>\n",
       "  </tbody>\n",
       "</table>\n",
       "</div>"
      ],
      "text/plain": [
       "   dhi  DHI  GHI            period_end period   Time        Date\n",
       "0    0    0    0  2023-01-01T00:05:00Z   PT5M  00:05  2023-01-01\n",
       "1    0    0    0  2023-01-01T00:10:00Z   PT5M  00:10  2023-01-01\n",
       "2    0    0    0  2023-01-01T00:15:00Z   PT5M  00:15  2023-01-01\n",
       "3    0    0    0  2023-01-01T00:20:00Z   PT5M  00:20  2023-01-01\n",
       "4    0    0    0  2023-01-01T00:25:00Z   PT5M  00:25  2023-01-01"
      ]
     },
     "execution_count": 78,
     "metadata": {},
     "output_type": "execute_result"
    }
   ],
   "source": [
    "# Cargar los datos del archivo CSV\n",
    "data = pd.read_csv('../Data/Raw/solcas_2023_PT5M.csv', sep=',')\n",
    "\n",
    "# Crear un dataframe con los datos\n",
    "df = pd.DataFrame(data)\n",
    "# Cambiar el nombre de la columna 'dni' a 'DHI'\n",
    "df = df.rename(columns={'dni': 'DHI'})\n",
    "# Cambiar el nombre de la columna 'ghi' a 'GHI'\n",
    "df = df.rename(columns={'ghi': 'GHI'})\n",
    "\n",
    "# Extraer los 4 caracteres siguientes a la letra 'T' en la columna 'PeriodEnd'\n",
    "df['Time'] = df['period_end'].str.extract('T(\\d{2}:\\d{2})')\n",
    "# Extraer los 10 caracteres anteriores a la letra 'T' en la columna 'PeriodEnd'\n",
    "df['Date'] = df['period_end'].str.extract('(\\d{4}-\\d{2}-\\d{2})')\n",
    "\n",
    "\n",
    "\n",
    "\n",
    "\n",
    "\n",
    "print(df.head())\n",
    "\n",
    "print(df.shape)\n",
    "df.head(5)  # muestra los 5 primeros registros del dataframe"
   ]
  },
  {
   "cell_type": "markdown",
   "metadata": {},
   "source": [
    "## Time zone setting all data"
   ]
  },
  {
   "cell_type": "code",
   "execution_count": 79,
   "metadata": {},
   "outputs": [
    {
     "name": "stderr",
     "output_type": "stream",
     "text": [
      "/var/folders/pz/w3bcsy5x2wgb_7c0fs6qmkp80000gn/T/ipykernel_23052/3929416198.py:2: UserWarning: Could not infer format, so each element will be parsed individually, falling back to `dateutil`. To ensure parsing is consistent and as-expected, please specify a format.\n",
      "  df['UTC'] = pd.to_datetime(df['Time'])\n"
     ]
    },
    {
     "name": "stdout",
     "output_type": "stream",
     "text": [
      "(105120, 7)\n"
     ]
    },
    {
     "data": {
      "text/html": [
       "<div>\n",
       "<style scoped>\n",
       "    .dataframe tbody tr th:only-of-type {\n",
       "        vertical-align: middle;\n",
       "    }\n",
       "\n",
       "    .dataframe tbody tr th {\n",
       "        vertical-align: top;\n",
       "    }\n",
       "\n",
       "    .dataframe thead th {\n",
       "        text-align: right;\n",
       "    }\n",
       "</style>\n",
       "<table border=\"1\" class=\"dataframe\">\n",
       "  <thead>\n",
       "    <tr style=\"text-align: right;\">\n",
       "      <th></th>\n",
       "      <th>dhi</th>\n",
       "      <th>DHI</th>\n",
       "      <th>GHI</th>\n",
       "      <th>period_end</th>\n",
       "      <th>period</th>\n",
       "      <th>Date</th>\n",
       "      <th>Time</th>\n",
       "    </tr>\n",
       "  </thead>\n",
       "  <tbody>\n",
       "    <tr>\n",
       "      <th>0</th>\n",
       "      <td>0</td>\n",
       "      <td>0</td>\n",
       "      <td>0</td>\n",
       "      <td>2023-01-01T00:05:00Z</td>\n",
       "      <td>PT5M</td>\n",
       "      <td>2023-01-01</td>\n",
       "      <td>19:05</td>\n",
       "    </tr>\n",
       "    <tr>\n",
       "      <th>1</th>\n",
       "      <td>0</td>\n",
       "      <td>0</td>\n",
       "      <td>0</td>\n",
       "      <td>2023-01-01T00:10:00Z</td>\n",
       "      <td>PT5M</td>\n",
       "      <td>2023-01-01</td>\n",
       "      <td>19:10</td>\n",
       "    </tr>\n",
       "    <tr>\n",
       "      <th>2</th>\n",
       "      <td>0</td>\n",
       "      <td>0</td>\n",
       "      <td>0</td>\n",
       "      <td>2023-01-01T00:15:00Z</td>\n",
       "      <td>PT5M</td>\n",
       "      <td>2023-01-01</td>\n",
       "      <td>19:15</td>\n",
       "    </tr>\n",
       "    <tr>\n",
       "      <th>3</th>\n",
       "      <td>0</td>\n",
       "      <td>0</td>\n",
       "      <td>0</td>\n",
       "      <td>2023-01-01T00:20:00Z</td>\n",
       "      <td>PT5M</td>\n",
       "      <td>2023-01-01</td>\n",
       "      <td>19:20</td>\n",
       "    </tr>\n",
       "    <tr>\n",
       "      <th>4</th>\n",
       "      <td>0</td>\n",
       "      <td>0</td>\n",
       "      <td>0</td>\n",
       "      <td>2023-01-01T00:25:00Z</td>\n",
       "      <td>PT5M</td>\n",
       "      <td>2023-01-01</td>\n",
       "      <td>19:25</td>\n",
       "    </tr>\n",
       "  </tbody>\n",
       "</table>\n",
       "</div>"
      ],
      "text/plain": [
       "   dhi  DHI  GHI            period_end period        Date    Time\n",
       "0    0    0    0  2023-01-01T00:05:00Z   PT5M  2023-01-01   19:05\n",
       "1    0    0    0  2023-01-01T00:10:00Z   PT5M  2023-01-01   19:10\n",
       "2    0    0    0  2023-01-01T00:15:00Z   PT5M  2023-01-01   19:15\n",
       "3    0    0    0  2023-01-01T00:20:00Z   PT5M  2023-01-01   19:20\n",
       "4    0    0    0  2023-01-01T00:25:00Z   PT5M  2023-01-01   19:25"
      ]
     },
     "execution_count": 79,
     "metadata": {},
     "output_type": "execute_result"
    }
   ],
   "source": [
    "# Asegúrate de que la columna 'UTC' es de tipo datetime\n",
    "df['UTC'] = pd.to_datetime(df['Time'])\n",
    "# # Configura la zona horaria a UTC\n",
    "df['UTC'] = df['UTC'].dt.tz_localize('UTC')\n",
    "# # Convierte a la zona horaria de Colombia\n",
    "df['Time_Colombia'] = df['UTC'].dt.tz_convert('America/Bogota')\n",
    "# Convertir la columna 'Time_Colombia' a tipo string\n",
    "df['Time_Colombia'] = df['Time_Colombia'].astype(str)\n",
    "# Extraer los 4 caracteres después de los primeros 10 caracteres\n",
    "df['Extracted'] = df['Time_Colombia'].str.slice(10, 16)\n",
    "# delete the column 'Time_Colombia'\n",
    "\n",
    "del df['Time_Colombia']\n",
    "# delete the column 'UTC'\n",
    "del df['UTC']\n",
    "# # delete the column 'Date'\n",
    "# del df['Date']\n",
    "# delete the column 'Time'\n",
    "del df['Time']\n",
    "#rename the column 'Extracted' to 'Time'\n",
    "df.rename(columns={'Extracted': 'Time'}, inplace=True)\n",
    "print(df.shape)\n",
    "df.head(5)"
   ]
  },
  {
   "cell_type": "markdown",
   "metadata": {},
   "source": [
    "## Group df for day"
   ]
  },
  {
   "cell_type": "code",
   "execution_count": 80,
   "metadata": {},
   "outputs": [
    {
     "name": "stdout",
     "output_type": "stream",
     "text": [
      "(287, 7)\n",
      "max_ghi:  1107 & time_max_ghi:   12:30\n"
     ]
    }
   ],
   "source": [
    "# Buscar en la columna \"Date\" las filas con el valor \"2023-01-01\"\n",
    "row_day = df.loc[df['Date'] == '2023-01-01']\n",
    "print(row_day.shape)\n",
    "# Encontrar el valor máximo de la columna 'GHI' en el dataframe\n",
    "max_ghi = df['GHI'].max()\n",
    "# print(\"max_ghi: \", max_ghi)\n",
    "# Encontrar el tiempo en el que se presentó el valor máximo de 'GHI'\n",
    "time_max_ghi = df.loc[df['GHI'] == max_ghi]\n",
    "# print(time_max_ghi[\"Time\"])\n",
    "print(\"max_ghi: \", max_ghi, \"& time_max_ghi: \", time_max_ghi[\"Time\"].values[0])\n",
    "\n",
    "\n",
    "# exportar el dataframe a un archivo CSV\n",
    "row_day.to_csv('../Data/Processed/solcast_2023_PT5M.csv', index=False)\n",
    "\n",
    "\n"
   ]
  },
  {
   "cell_type": "markdown",
   "metadata": {},
   "source": [
    "## Values at a specific time\n",
    "\n",
    "Date: 2023-01-01,\n",
    "time: 11:00 am"
   ]
  },
  {
   "cell_type": "code",
   "execution_count": null,
   "metadata": {},
   "outputs": [],
   "source": [
    "# Imprimir la columna 'Time'\n",
    "# print(row_day['Time'])\n",
    "# Imprimir la fila 15\n",
    "# print(row_day.iloc[15])\n",
    "# Imprimir los valores de 'GHI' y 'DHI' para la fila 15\n",
    "print(row_day.iloc[15][['GHI', 'DHI']])"
   ]
  },
  {
   "cell_type": "markdown",
   "metadata": {},
   "source": [
    "## Graphs of single-day "
   ]
  },
  {
   "cell_type": "code",
   "execution_count": 73,
   "metadata": {},
   "outputs": [
    {
     "data": {
      "image/png": "[encoded data removed]",
      "text/plain": [
       "<Figure size 800x500 with 1 Axes>"
      ]
     },
     "metadata": {},
     "output_type": "display_data"
    }
   ],
   "source": [
    "plt.figure(figsize=(8,5))                   # cre figura nueva y configura tamaño\n",
    "plt.rcParams['font.family'] = 'serif'       # Tipo de letra\n",
    "# plt.plot(row_day['GHI'], label='GHI EM Solcast', linewidth = 2, color = 'orange') # grafica\n",
    "plt.title('Single Day - 2023-01-01 - DB Solcast') # titulo\n",
    "plt.plot(row_day['Time'], row_day['GHI'], label='GHI')\n",
    "plt.plot(row_day['Time'], row_day['DHI'], label='DHI')\n",
    "\n",
    "plt.xlabel('Time')                         # Etiqueta eje x\n",
    "plt.legend()\n",
    "plt.ylabel('Irradiance W/m2')              # Etiqueta eje y\n",
    "# plt.xticks([1,5,9,12, 15,17,19, 22])                                # leyenda\n",
    "plt.tight_layout()                          # define la mejor disposiciones de los elementos que conforman la grafica."
   ]
  },
  {
   "cell_type": "markdown",
   "metadata": {},
   "source": [
    "## Average of single-day"
   ]
  },
  {
   "cell_type": "code",
   "execution_count": null,
   "metadata": {},
   "outputs": [],
   "source": [
    "# Eliminar las filas de 'row_day' que tienen 0 en la columna 'GHI'\n",
    "row_day = row_day.loc[row_day['GHI'] != 0]\n",
    "print(row_day.shape)\n",
    "\n",
    "# Calcular el promedio de los valores en la columna 'GHI'\n",
    "average_GHI = row_day['GHI'].mean()\n",
    "print(\"average_GHI: \", average_GHI)\n",
    "# # Calcular el promedio de los valores en la columna 'DNI'\n",
    "# average_DNI = row_day['DNI'].mean()\n",
    "# print(\"average_DNI: \", average_DNI)\n",
    "# Calcular el promedio de los valores en la columna 'DHI'\n",
    "average_DHI = row_day['DHI'].mean()\n",
    "print(\"average_DHI: \", average_DHI)\n"
   ]
  },
  {
   "cell_type": "markdown",
   "metadata": {},
   "source": [
    "## New df with daily information"
   ]
  },
  {
   "cell_type": "code",
   "execution_count": null,
   "metadata": {},
   "outputs": [],
   "source": [
    "\n",
    "# Obtener los valores únicos en la columna 'Date'\n",
    "unique_dates = df['Date'].unique()\n",
    "# Filtrar los datos donde 'GHI' no es 0\n",
    "df_filtered = df[df['GHI'] != 0]\n",
    "# print(df_filtered)\n",
    "# Encontrar el promedio de 'GHI' para cada fecha única, excluyendo los valores donde 'GHI' es 0\n",
    "average_GHI_per_date = df_filtered.groupby('Date')['GHI'].mean()\n",
    "average_DHI_per_date = df_filtered.groupby('Date')['DHI'].mean()\n",
    "# # average_DNI_per_date = df_filtered.groupby('Date')['DNI'].mean()\n",
    "\n",
    "# Crear un nuevo DataFrame\n",
    "new_df = pd.DataFrame({\n",
    "    'Date': unique_dates,\n",
    "    'Average_GHI': average_GHI_per_date.values,\n",
    "    'Average_DHI': average_DHI_per_date.values,\n",
    "    # 'Average_DNI': average_DNI_per_date.values\n",
    "})\n",
    "\n",
    "print(new_df.head())\n",
    "print(new_df.shape)"
   ]
  },
  {
   "cell_type": "markdown",
   "metadata": {},
   "source": [
    "## Graph for Daily information"
   ]
  },
  {
   "cell_type": "code",
   "execution_count": null,
   "metadata": {},
   "outputs": [],
   "source": [
    "# Crear una figura\n",
    "plt.figure(figsize=(8,5))\n",
    "plt.rcParams['font.family'] = 'serif'\n",
    "#scatter plot\n",
    "plt.scatter(new_df['Date'], new_df['Average_GHI'], label='GHI')\n",
    "# plt.scatter(new_df['Date'], new_df['Average_DNI'], label='DNI')\n",
    "plt.scatter(new_df['Date'], new_df['Average_DHI'], label='DHI')\n",
    "# plt.plot(new_df['Date'], new_df['Average_GHI'], label='GHI')\n",
    "# plt.plot(new_df['Date'], new_df['Average_DNI'], label='DNI')\n",
    "# plt.plot(new_df['Date'], new_df['Average_DHI'], label='DHI')\n",
    "plt.title('Average Daily GHI, DNI, DHI - DB Solargis')\n",
    "plt.xlabel('Date')\n",
    "plt.ylabel('Irradiance (W/m^2)')\n",
    "plt.legend()\n",
    "plt.xticks([1,180,290])\n",
    "plt.tight_layout()\n",
    "\n"
   ]
  },
  {
   "cell_type": "markdown",
   "metadata": {},
   "source": [
    "## New df with month information"
   ]
  },
  {
   "cell_type": "code",
   "execution_count": null,
   "metadata": {},
   "outputs": [],
   "source": [
    "# print(new_df.head())\n",
    "# print(new_df.shape)\n",
    "\n",
    "# Extraer el mes de la columna 'Date'\n",
    "new_df['Month'] = new_df['Date'].str.split('-').str.get(1)\n",
    "\n",
    "# # print(new_df.head())\n",
    "# # print(new_df.shape)\n",
    "\n",
    "unique_month = new_df['Month'].unique()\n",
    "# print(unique_month)\n",
    "\n",
    "# Encontrar el promedio de 'GHI' para cada mes\n",
    "average_GHI_per_month = new_df.groupby('Month')['Average_GHI'].mean()\n",
    "average_DHI_per_month = new_df.groupby('Month')['Average_DHI'].mean()\n",
    "# average_DNI_per_month = new_df.groupby('Month')['Average_DNI'].mean()\n",
    "# print(average_GHI_per_month)\n",
    "# print(average_DHI_per_month)\n",
    "# print(average_DNI_per_month)\n",
    "\n",
    "# Crear un nuevo DataFrame\n",
    "new_df2 = pd.DataFrame({\n",
    "    'Month': unique_month,\n",
    "    'Average_GHI': average_GHI_per_month.values,\n",
    "    'Average_DHI': average_DHI_per_month.values,\n",
    "    # 'Average_DNI': average_DNI_per_month.values\n",
    "})\n",
    "# Guardar 'new_df2' como un archivo CSV\n",
    "new_df2.to_csv('../Data/temporary/solcast_month.csv', index=False)\n",
    "print(new_df2.head())\n"
   ]
  },
  {
   "cell_type": "markdown",
   "metadata": {},
   "source": [
    "## Graph for Month"
   ]
  },
  {
   "cell_type": "code",
   "execution_count": null,
   "metadata": {},
   "outputs": [],
   "source": [
    "# Crear una figura \n",
    "plt.figure(figsize=(8,5))\n",
    "plt.rcParams['font.family'] = 'serif'\n",
    "#scatter plot\n",
    "# plt.scatter(new_df2['Month'], new_df2['Average_GHI'], label='GHI')\n",
    "# plt.scatter(new_df2['Month'], new_df2['Average_DNI'], label='DNI')\n",
    "# plt.scatter(new_df2['Month'], new_df2['Average_DHI'], label='DHI')\n",
    "plt.plot(new_df2['Month'], new_df2['Average_GHI'], label='GHI')\n",
    "# plt.plot(new_df2['Month'], new_df2['Average_DNI'], label='DNI')\n",
    "plt.plot(new_df2['Month'], new_df2['Average_DHI'], label='DHI')\n",
    "plt.title('Average Year GHI, DHI - DB Solcast')\n",
    "plt.xlabel('Month')\n",
    "plt.ylabel('Irradiance (W/m^2)')\n",
    "plt.legend()\n",
    "# plt.xticks([1,2,3,4,5,6,7,8,9,10])\n",
    "plt.tight_layout()\n"
   ]
  }
 ],
 "metadata": {
  "kernelspec": {
   "display_name": "current_env",
   "language": "python",
   "name": "python3"
  },
  "language_info": {
   "codemirror_mode": {
    "name": "ipython",
    "version": 3
   },
   "file_extension": ".py",
   "mimetype": "text/x-python",
   "name": "python",
   "nbconvert_exporter": "python",
   "pygments_lexer": "ipython3",
   "version": "3.12.0"
  }
 },
 "nbformat": 4,
 "nbformat_minor": 2
}
