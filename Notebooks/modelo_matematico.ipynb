{
 "cells": [
  {
   "cell_type": "markdown",
   "metadata": {},
   "source": [
    "## Análisis del modelo matematico propuesto"
   ]
  },
  {
   "cell_type": "code",
   "execution_count": 202,
   "metadata": {},
   "outputs": [],
   "source": [
    "# -*- coding: utf-8 -*-\n",
    "import pandas as pd\n",
    "import numpy as np\n",
    "import matplotlib.pyplot as plt\n",
    "#  Cargar los datos del archivo CSV\n",
    "df_SFV = pd.read_csv('../Data/Cleaned/SFV_2023.csv', sep=',')\n",
    "df_solcast = pd.read_csv('../Data/Cleaned/solcast_2023.csv', sep=',')"
   ]
  },
  {
   "cell_type": "code",
   "execution_count": 203,
   "metadata": {},
   "outputs": [],
   "source": [
    "#  Cargar los datos del archivo CSV\n",
    "Fecha = '2023-03-11'\n",
    "df_SFV = pd.read_csv('../Data/Cleaned/SFV_2023.csv', sep=',')\n",
    "df_solcast = pd.read_csv('../Data/Cleaned/solcast_2023.csv', sep=',')\n",
    "row_day_solcast = df_solcast.loc[df_solcast['Date'] == Fecha]\n",
    "row_day_fronius = df_SFV.loc[df_SFV['Date'] == Fecha]\n",
    "# reiniciar el index\n",
    "row_day_solcast = row_day_solcast.reset_index(drop=True)\n",
    "row_day_fronius = row_day_fronius.reset_index(drop=True)\n",
    "# Odenernar row_day_solcast de menor a mayor hora\n",
    "row_day_solcast = row_day_solcast.sort_values(by='Time')\n",
    "row_day_solcast = row_day_solcast.reset_index(drop=True)\n",
    "# Crear un nuevo dataframe con los datos de solcast y fronius a partir del indice \n",
    "df = pd.DataFrame()\n",
    "df['Time'] = row_day_solcast['Time']\n",
    "df['GHI'] = row_day_solcast['GHI']\n",
    "df['air_temp'] = row_day_solcast['air_temp']\n",
    "df['cloud_opacity'] = row_day_solcast['cloud_opacity']\n",
    "df['Producción_fotovoltaica_SFV'] = row_day_fronius['Producción_fotovoltaica_SFV']\n",
    "df['clearsky_ghi'] = row_day_solcast['clearsky_ghi']\n",
    "df['clearsky_gti'] = row_day_solcast['clearsky_gti']"
   ]
  },
  {
   "cell_type": "code",
   "execution_count": 204,
   "metadata": {},
   "outputs": [
    {
     "data": {
      "application/vnd.jupyter.widget-view+json": {
       "model_id": "6215979b15614bc2b50b32f22570578d",
       "version_major": 2,
       "version_minor": 0
      },
      "text/plain": [
       "interactive(children=(FloatSlider(value=0.1, description='alpha:', max=1.0), FloatSlider(value=0.3, descriptio…"
      ]
     },
     "metadata": {},
     "output_type": "display_data"
    },
    {
     "data": {
      "text/plain": [
       "<function __main__.plot_signal(alpha, beta)>"
      ]
     },
     "execution_count": 204,
     "metadata": {},
     "output_type": "execute_result"
    }
   ],
   "source": [
    "import numpy as np\n",
    "import matplotlib.pyplot as plt\n",
    "from ipywidgets import interact, widgets\n",
    "\n",
    "#  Cargar los datos del archivo CSV\n",
    "import ipywidgets as widgets\n",
    "from IPython.display import display\n",
    "\n",
    "def plot_signal(alpha, beta):\n",
    "    #Parametros SFV\n",
    "    efficiency = 0.2094  # Eficiencia del panel solar\n",
    "    catidad_pv= 30\n",
    "    area =2.274*1.134\n",
    "    \n",
    "    # normalizar 'cloud_opacity' de 0 a 1  en donde 1 es el valor más alto\n",
    "    df['cloud_opacity'] = df['cloud_opacity'] / df['cloud_opacity'].max()\n",
    "    # normalizar 'air_temp' de 0 a 1  en donde 1 es el valor más alto\n",
    "    df['air_temp'] = df['air_temp'] / df['air_temp'].max()\n",
    "    \n",
    "    \n",
    "    # Energía calculada a partir de Solcast \n",
    "    df['P_cloud_opacity_temp'] = df['GHI'] * efficiency *  area * catidad_pv * (1 - beta*df['cloud_opacity']) * (1 - alpha*df['air_temp'])\n",
    "\n",
    "    # Energía calculada a partir de Fronius\n",
    "    df['Potencia'] = df['Producción_fotovoltaica_SFV'] / (5/60)\n",
    "    \n",
    "    plt.figure(figsize=(15, 4))\n",
    "    plt.plot(df['Time'], df['P_cloud_opacity_temp'], label='Solcast')\n",
    "    plt.plot(df['Time'], df['Potencia'], label='Fronius')\n",
    "    # grafico area bajo la curva\n",
    "    plt.fill_between(df['Time'], df['P_cloud_opacity_temp'], df['Potencia'], color='gray', alpha=0.2)\n",
    "    plt.title(f'Producción fotovoltaica calculada de {Fecha} con: Alpha={alpha}, Beta={beta}  \\nE = Irr * efficiency *  area * catidad_pv * (1-beta * N) * (1-alpha*T) * Delta_t')\n",
    "    plt.xlabel('Tiempo')\n",
    "    plt.ylabel('Amplitud')\n",
    "    plt.legend()\n",
    "    plt.xticks([100, 150, 200])\n",
    "    # plt.grid(True)\n",
    "    plt.show()\n",
    "    # Energía calculada a partir de Fronius\n",
    "    energia_fronius = df['Producción_fotovoltaica_SFV'].sum()\n",
    "    # Horas de brillo solar\n",
    "    hbs = energia_fronius / (30*0.54)\n",
    "    print(\"Horas de brillo solar =\", hbs/1000)\n",
    "    print(\"Producción fotovoltaica SVF [kWh/día] =\",energia_fronius/1000)\n",
    "    # suma de la potencia generada solcast\n",
    "    energia = df['P_cloud_opacity_temp']*(5/60)\n",
    "    print(\"Energía calculada solacast [kWh/día] =\",energia.sum()/1000)\n",
    "    # error porcentual\n",
    "    error = abs(  energia.sum() - energia_fronius.sum()) / energia_fronius.sum() * 100\n",
    "    print('Error porcentual:', error, '%')\n",
    "\n",
    "# Definir sliders\n",
    "amplitude_slider = widgets.FloatSlider(value=0.1, min=0, max=1, step=0.1, description='alpha:')\n",
    "frequency_slider = widgets.FloatSlider(value=0.3, min=0, max=1, step=0.1, description='beta:')\n",
    "\n",
    "# Crear la interfaz interactiva\n",
    "interact(plot_signal, alpha=amplitude_slider, beta=frequency_slider)"
   ]
  },
  {
   "cell_type": "markdown",
   "metadata": {},
   "source": [
    "## Análisis con clearsky_ghi"
   ]
  },
  {
   "cell_type": "code",
   "execution_count": 205,
   "metadata": {},
   "outputs": [
    {
     "data": {
      "application/vnd.jupyter.widget-view+json": {
       "model_id": "77ece1bcac7e45dabe9c731aebf118ea",
       "version_major": 2,
       "version_minor": 0
      },
      "text/plain": [
       "interactive(children=(FloatSlider(value=0.0, description='alpha:', max=1.0), FloatSlider(value=0.0, descriptio…"
      ]
     },
     "metadata": {},
     "output_type": "display_data"
    },
    {
     "data": {
      "text/plain": [
       "<function __main__.plot_signal(alpha, beta)>"
      ]
     },
     "execution_count": 205,
     "metadata": {},
     "output_type": "execute_result"
    }
   ],
   "source": [
    "import numpy as np\n",
    "import matplotlib.pyplot as plt\n",
    "from ipywidgets import interact, widgets\n",
    "\n",
    "#  Cargar los datos del archivo CSV\n",
    "import ipywidgets as widgets\n",
    "from IPython.display import display\n",
    "\n",
    "def plot_signal(alpha, beta):\n",
    "    #Parametros SFV\n",
    "    efficiency = 0.2094  # Eficiencia del panel solar\n",
    "    catidad_pv= 30\n",
    "    area =2.274*1.134\n",
    "    \n",
    "    # normalizar 'cloud_opacity' de 0 a 1  en donde 1 es el valor más alto\n",
    "    df['cloud_opacity'] = df['cloud_opacity'] / df['cloud_opacity'].max()\n",
    "    # normalizar 'air_temp' de 0 a 1  en donde 1 es el valor más alto\n",
    "    df['air_temp'] = df['air_temp'] / df['air_temp'].max()\n",
    "    \n",
    "    \n",
    "    # Potencia calculada a partir de Solcast \n",
    "    df['P_cloud_opacity_temp'] = df['GHI'] * efficiency *  area * catidad_pv * (1 - beta*df['cloud_opacity']) * (1 - alpha*df['air_temp'])\n",
    "\n",
    "    # Potencia calculada a partir de Fronius\n",
    "    df['Potencia'] = df['Producción_fotovoltaica_SFV'] / (5/60)\n",
    "\n",
    "    # Potencia clearsky_ghi\n",
    "    df['P_clearsky_ghi'] = df['clearsky_ghi'] *  area * catidad_pv * efficiency\n",
    "\n",
    "    # Valor máximo de df['P_clearsky_ghi']\n",
    "    maximo = df['P_clearsky_ghi'].max()\n",
    "    # valor medio de df['P_clearsky_ghi']\n",
    "    medio = df['P_clearsky_ghi'].mean()\n",
    "    # medio = maximo / 2\n",
    "\n",
    "\n",
    "\n",
    "\n",
    "\n",
    "    \n",
    "    plt.figure(figsize=(17, 4))\n",
    "    plt.plot(df['Time'], df['P_cloud_opacity_temp'], label='Solcast')\n",
    "    plt.plot(df['Time'], df['Potencia'], label='Fronius')\n",
    "    # agregar clearsky_ghi\n",
    "    plt.plot(df['Time'], df['P_clearsky_ghi'] , label='Clearsky')\n",
    "    # grafica una linea en la hora del  máximo de df['P_clearsky_ghi']\n",
    "    plt.axvline(x=df['Time'][df['P_clearsky_ghi'].idxmax()], color='r', linestyle='--', label='Máximo Clearsky')\n",
    "    # grafica una linea en el valor medio de df['P_clearsky_ghi']\n",
    "    plt.axhline(y=medio, color='g', linestyle='--', label='Medio Clearsky')\n",
    "    # grafico area bajo la curva\n",
    "    plt.fill_between(df['Time'], df['P_cloud_opacity_temp'], df['Potencia'], color='gray', alpha=0.2)\n",
    "   \n",
    "\n",
    "    plt.title(f'Producción fotovoltaica calculada de {Fecha} con: Alpha={alpha}, Beta={beta}  \\nE = Irr * efficiency *  area * catidad_pv * (1-beta * N) * (1-alpha*T) * Delta_t')\n",
    "    plt.xlabel('Tiempo')\n",
    "    plt.ylabel('Potencia [W]')\n",
    "    plt.legend()\n",
    "    plt.xticks([100, 150, 200])\n",
    "    plt.grid(True)\n",
    "    plt.show()\n",
    "\n",
    "\n",
    "\n",
    "\n",
    "    # Energía calculada a partir de Fronius\n",
    "    energia_fronius = df['Producción_fotovoltaica_SFV'].sum()\n",
    "    print(\"Producción fotovoltaica SVF [kWh/día] =\",energia_fronius/1000)\n",
    "    # suma de la potencia generada solcast\n",
    "    energia_solcast = df['P_cloud_opacity_temp']*(5/60)\n",
    "    print(\"Producción fotovoltaica solacast [kWh/día] =\",energia_solcast.sum()/1000)\n",
    "    # error porcentual\n",
    "    error = abs(  energia_solcast.sum() - energia_fronius.sum()) / energia_fronius.sum() * 100\n",
    "    print('Error porcentual solacast vs SFV :', error, '%')\n",
    "\n",
    "    # energía calculada a partir de clearsky\n",
    "    energia_clearsky = df['P_clearsky_ghi']*(5/60)\n",
    "    # print(\"Producción fotovoltaica clearsky [kWh/día] =\",energia_clearsky.sum()/1000)\n",
    "    # error porcentual clearsky vs energia_solcast\n",
    "    # imprimir un espacio \n",
    "    print()\n",
    "    error = abs(  energia_clearsky.sum() - energia_solcast.sum()) / energia_solcast.sum() * 100\n",
    "    print('Error porcentual clearsky vs solacast :', error, '%')\n",
    "    \n",
    " \n",
    "\n",
    "# Definir sliders\n",
    "amplitude_slider = widgets.FloatSlider(value=0, min=0, max=1, step=0.1, description='alpha:')\n",
    "frequency_slider = widgets.FloatSlider(value=0, min=0, max=1, step=0.1, description='beta:')\n",
    "\n",
    "# Crear la interfaz interactiva\n",
    "interact(plot_signal, alpha=amplitude_slider, beta=frequency_slider)"
   ]
  },
  {
   "cell_type": "markdown",
   "metadata": {},
   "source": [
    "## Análisis con grafica de  nubosidad y temperatura "
   ]
  },
  {
   "cell_type": "code",
   "execution_count": 206,
   "metadata": {},
   "outputs": [
    {
     "data": {
      "application/vnd.jupyter.widget-view+json": {
       "model_id": "4c75385137f64723860f6fc8f78b232a",
       "version_major": 2,
       "version_minor": 0
      },
      "text/plain": [
       "interactive(children=(FloatSlider(value=0.0, description='alpha:', max=1.0), FloatSlider(value=0.0, descriptio…"
      ]
     },
     "metadata": {},
     "output_type": "display_data"
    },
    {
     "data": {
      "text/plain": [
       "<function __main__.plot_signal(alpha, beta)>"
      ]
     },
     "execution_count": 206,
     "metadata": {},
     "output_type": "execute_result"
    }
   ],
   "source": [
    "import numpy as np\n",
    "import matplotlib.pyplot as plt\n",
    "from ipywidgets import interact, widgets\n",
    "\n",
    "#  Cargar los datos del archivo CSV\n",
    "import ipywidgets as widgets\n",
    "from IPython.display import display\n",
    "\n",
    "def plot_signal(alpha, beta):\n",
    "    #Parametros SFV\n",
    "    efficiency = 0.2094  # Eficiencia del panel solar\n",
    "    catidad_pv= 30\n",
    "    area =2.274*1.134\n",
    "    \n",
    "    # normalizar 'cloud_opacity' de 0 a 1  en donde 1 es el valor más alto\n",
    "    df['cloud_opacity'] = df['cloud_opacity'] / df['cloud_opacity'].max()\n",
    "    # normalizar 'air_temp' de 0 a 1  en donde 1 es el valor más alto\n",
    "    df['air_temp'] = df['air_temp'] / df['air_temp'].max()\n",
    "    \n",
    "    \n",
    "    # Potencia calculada a partir de Solcast \n",
    "    df['P_cloud_opacity_temp'] = df['GHI'] * efficiency *  area * catidad_pv * (1 - beta*df['cloud_opacity']) * (1 - alpha*df['air_temp'])\n",
    "\n",
    "    # Potencia calculada a partir de Fronius\n",
    "    df['Potencia'] = df['Producción_fotovoltaica_SFV'] / (5/60)\n",
    "\n",
    "    # Potencia clearsky_ghi\n",
    "    df['P_clearsky_ghi'] = df['clearsky_ghi'] *  area * catidad_pv * efficiency\n",
    "\n",
    "    # Valor máximo de df['P_clearsky_ghi']\n",
    "    maximo = df['P_clearsky_ghi'].max()\n",
    "    # valor medio de df['P_clearsky_ghi']\n",
    "    medio = df['P_clearsky_ghi'].mean()\n",
    "    # medio = maximo / 2\n",
    "\n",
    "\n",
    "\n",
    "\n",
    "\n",
    "    \n",
    "    plt.figure(figsize=(17, 4))\n",
    "    plt.plot(df['Time'], df['P_cloud_opacity_temp'], label='Solcast')\n",
    "    plt.plot(df['Time'], df['Potencia'], label='Fronius')\n",
    "    # agregar clearsky_ghi\n",
    "    plt.plot(df['Time'], df['P_clearsky_ghi'] , label='Clearsky')\n",
    "    # grafica una linea en la hora del  máximo de df['P_clearsky_ghi']\n",
    "    plt.axvline(x=df['Time'][df['P_clearsky_ghi'].idxmax()], color='r', linestyle='--', label='Máximo Clearsky')\n",
    "    # grafica una linea en el valor medio de df['P_clearsky_ghi']\n",
    "    plt.axhline(y=medio, color='g', linestyle='--', label='Medio Clearsky')\n",
    "    # grafico area bajo la curva\n",
    "    plt.fill_between(df['Time'], df['P_cloud_opacity_temp'], df['Potencia'], color='gray', alpha=0.2)\n",
    "\n",
    "    # # grafico de cloud_opacity y air_temp en el tiempo\n",
    "    # plt.plot(df['Time'], df['cloud_opacity']*df['P_cloud_opacity_temp'].max(), label='cloud_opacity')\n",
    "    # plt.plot(df['Time'], df['air_temp']*df['P_cloud_opacity_temp'].max(), label='air_temp')\n",
    "   \n",
    "\n",
    "    plt.title(f'Producción fotovoltaica calculada de {Fecha} con: Alpha={alpha}, Beta={beta}  \\nE = Irr * efficiency *  area * catidad_pv * (1-beta * N) * (1-alpha*T) * Delta_t')\n",
    "    plt.xlabel('Tiempo')\n",
    "    plt.ylabel('Potencia [W]')\n",
    "    plt.legend()\n",
    "    plt.xticks([100, 150, 200])\n",
    "    plt.grid(True)\n",
    "    plt.show()\n",
    "\n",
    "\n",
    "\n",
    "\n",
    "    # Energía calculada a partir de Fronius\n",
    "    energia_fronius = df['Producción_fotovoltaica_SFV'].sum()\n",
    "    print(\"Producción fotovoltaica SVF [kWh/día] =\",energia_fronius/1000)\n",
    "    # suma de la potencia generada solcast\n",
    "    energia_solcast = df['P_cloud_opacity_temp']*(5/60)\n",
    "    print(\"Producción fotovoltaica solacast [kWh/día] =\",energia_solcast.sum()/1000)\n",
    "    # error porcentual\n",
    "    error = abs(  energia_solcast.sum() - energia_fronius.sum()) / energia_fronius.sum() * 100\n",
    "    print('Error porcentual solacast vs SFV :', error, '%')\n",
    "\n",
    "    # energía calculada a partir de clea rsky\n",
    "    energia_clearsky = df['P_clearsky_ghi']*(5/60)\n",
    "    # print(\"Producción fotovoltaica clearsky [kWh/día] =\",energia_clearsky.sum()/1000)\n",
    "    # error porcentual clearsky vs energia_solcast\n",
    "    # imprimir un espacio \n",
    "    print()\n",
    "    error = abs(  energia_clearsky.sum() - energia_solcast.sum()) / energia_solcast.sum() * 100\n",
    "    print('Error porcentual clearsky vs solacast :', error, '%')\n",
    "    \n",
    " \n",
    "\n",
    "# Definir sliders\n",
    "amplitude_slider = widgets.FloatSlider(value=0, min=0, max=1, step=0.1, description='alpha:')\n",
    "frequency_slider = widgets.FloatSlider(value=0, min=0, max=1, step=0.1, description='beta:')\n",
    "\n",
    "# Crear la interfaz interactiva\n",
    "interact(plot_signal, alpha=amplitude_slider, beta=frequency_slider)"
   ]
  },
  {
   "cell_type": "markdown",
   "metadata": {},
   "source": [
    "## Análisis solo con el componente de nubosidad \n"
   ]
  },
  {
   "cell_type": "code",
   "execution_count": 209,
   "metadata": {},
   "outputs": [
    {
     "data": {
      "application/vnd.jupyter.widget-view+json": {
       "model_id": "fda147cb97e04246aa144f7f37a9fa5b",
       "version_major": 2,
       "version_minor": 0
      },
      "text/plain": [
       "interactive(children=(FloatSlider(value=0.0, description='beta:', max=1.0), Output()), _dom_classes=('widget-i…"
      ]
     },
     "metadata": {},
     "output_type": "display_data"
    },
    {
     "data": {
      "text/plain": [
       "<function __main__.plot_signal(beta)>"
      ]
     },
     "execution_count": 209,
     "metadata": {},
     "output_type": "execute_result"
    }
   ],
   "source": [
    "import numpy as np\n",
    "import matplotlib.pyplot as plt\n",
    "from ipywidgets import interact, widgets\n",
    "\n",
    "#  Cargar los datos del archivo CSV\n",
    "import ipywidgets as widgets\n",
    "from IPython.display import display\n",
    "\n",
    "def plot_signal(beta):\n",
    "    #Parametros SFV\n",
    "    efficiency = 0.2094  # Eficiencia del panel solar\n",
    "    catidad_pv= 30\n",
    "    area =2.274*1.134\n",
    "    \n",
    "    # normalizar 'cloud_opacity' de 0 a 1  en donde 1 es el valor más alto\n",
    "    df['cloud_opacity'] = df['cloud_opacity'] / df['cloud_opacity'].max()\n",
    "    # normalizar 'air_temp' de 0 a 1  en donde 1 es el valor más alto\n",
    "    df['air_temp'] = df['air_temp'] / df['air_temp'].max()\n",
    "    \n",
    "    \n",
    "    # Potencia calculada a partir de Solcast \n",
    "    df['P_cloud_opacity_temp'] = df['GHI'] * efficiency *  area * catidad_pv * (1 - beta*df['cloud_opacity'])* (1-0.1*df['air_temp'])\n",
    "\n",
    "    # Potencia calculada a partir de Fronius\n",
    "    df['Potencia'] = df['Producción_fotovoltaica_SFV'] / (5/60)\n",
    "\n",
    "    # Potencia clearsky_ghi\n",
    "    df['P_clearsky_ghi'] = df['clearsky_ghi'] *  area * catidad_pv * efficiency\n",
    "\n",
    "    # Valor máximo de df['P_clearsky_ghi']\n",
    "    maximo = df['P_clearsky_ghi'].max()\n",
    "    # valor medio de df['P_clearsky_ghi']\n",
    "    medio = df['P_clearsky_ghi'].mean()\n",
    "    # medio = maximo / 2\n",
    "\n",
    "\n",
    "\n",
    "\n",
    "\n",
    "    \n",
    "    plt.figure(figsize=(17, 4))\n",
    "    plt.plot(df['Time'], df['P_cloud_opacity_temp'], label='Solcast')\n",
    "    plt.plot(df['Time'], df['Potencia'], label='Fronius')\n",
    "    # agregar clearsky_ghi\n",
    "    plt.plot(df['Time'], df['P_clearsky_ghi'] , label='Clearsky')\n",
    "    # grafica una linea en la hora del  máximo de df['P_clearsky_ghi']\n",
    "    plt.axvline(x=df['Time'][df['P_clearsky_ghi'].idxmax()], color='r', linestyle='--', label='Máximo Clearsky')\n",
    "    # grafica una linea en el valor medio de df['P_clearsky_ghi']\n",
    "    plt.axhline(y=medio, color='g', linestyle='--', label='Medio Clearsky')\n",
    "    # grafico area bajo la curva\n",
    "    plt.fill_between(df['Time'], df['P_cloud_opacity_temp'], df['Potencia'], color='gray')\n",
    "\n",
    "    # # grafico de cloud_opacity y air_temp en el tiempo\n",
    "    # plt.plot(df['Time'], df['cloud_opacity']*df['P_cloud_opacity_temp'].max(), label='cloud_opacity')\n",
    "    # plt.plot(df['Time'], df['air_temp']*df['P_cloud_opacity_temp'].max(), label='air_temp')\n",
    "   \n",
    "\n",
    "    plt.title(f'Producción fotovoltaica calculada de {Fecha} con: Beta={beta}  \\nE = Irr * efficiency *  area * catidad_pv * (1-beta * N) (1-0.1*T)* Delta_t')\n",
    "    plt.xlabel('Tiempo')\n",
    "    plt.ylabel('Potencia [W]')\n",
    "    plt.legend()\n",
    "    plt.xticks([100, 150, 200])\n",
    "    plt.grid(True)\n",
    "    plt.show()\n",
    "\n",
    "\n",
    "\n",
    "\n",
    "    # Energía calculada a partir de Fronius\n",
    "    energia_fronius = df['Producción_fotovoltaica_SFV'].sum()\n",
    "    print(\"Producción fotovoltaica SVF [kWh/día] =\",energia_fronius/1000)\n",
    "    # suma de la potencia generada solcast\n",
    "    energia_solcast = df['P_cloud_opacity_temp']*(5/60)\n",
    "    print(\"Producción fotovoltaica solacast [kWh/día] =\",energia_solcast.sum()/1000)\n",
    "    # error porcentual\n",
    "    error = abs(  energia_solcast.sum() - energia_fronius.sum()) / energia_fronius.sum() * 100\n",
    "    print('Error porcentual solacast vs SFV :', error, '%')\n",
    "\n",
    "    # energía calculada a partir de clea rsky\n",
    "    energia_clearsky = df['P_clearsky_ghi']*(5/60)\n",
    "    # print(\"Producción fotovoltaica clearsky [kWh/día] =\",energia_clearsky.sum()/1000)\n",
    "    # error porcentual clearsky vs energia_solcast\n",
    "    # imprimir un espacio \n",
    "    print()\n",
    "    error = abs(  energia_clearsky.sum() - energia_solcast.sum()) / energia_solcast.sum() * 100\n",
    "    print('Error porcentual clearsky vs solacast :', error, '%')\n",
    "    \n",
    " \n",
    "\n",
    "# Definir sliders\n",
    "# amplitude_slider = widgets.FloatSlider(value=0, min=0, max=1, step=0.1, description='alpha:')\n",
    "frequency_slider = widgets.FloatSlider(value=0, min=0, max=1, step=0.1, description='beta:')\n",
    "\n",
    "# Crear la interfaz interactiva\n",
    "interact(plot_signal,  beta=frequency_slider)"
   ]
  },
  {
   "cell_type": "markdown",
   "metadata": {},
   "source": [
    "## Optimización"
   ]
  },
  {
   "cell_type": "code",
   "execution_count": null,
   "metadata": {},
   "outputs": [
    {
     "name": "stdout",
     "output_type": "stream",
     "text": [
      "Alpha óptimo: 0.2340077400172927\n",
      "Beta óptimo: 0.23636817764117415\n",
      "Error porcentual mínimo: 3.479691915495465e-07 %\n"
     ]
    }
   ],
   "source": [
    "from scipy.optimize import minimize\n",
    "\n",
    "def error_porcentual(alpha_beta):\n",
    "    alpha, beta = alpha_beta\n",
    "    efficiency = 0.2094  # Eficiencia del panel solar\n",
    "    catidad_pv= 30\n",
    "    area =2.274*1.134\n",
    "    P_cloud_opacity_temp = df['GHI'] * efficiency * area * catidad_pv * (1 - beta * df['cloud_opacity']) * (1 - alpha * df['air_temp'])\n",
    "    energia = P_cloud_opacity_temp * (5/60)\n",
    "    error = abs(energia.sum() - df['Producción_fotovoltaica_SFV'].sum()) / df['Producción_fotovoltaica_SFV'].sum() * 100\n",
    "    return error\n",
    "\n",
    "# Suponiendo que tienes valores iniciales para alpha y beta\n",
    "alpha_init = 0.1\n",
    "beta_init = 0.1\n",
    "initial_guess = [alpha_init, beta_init]\n",
    "\n",
    "resultado = minimize(error_porcentual, initial_guess, bounds=((0, 1), (0, 1)))\n",
    "alpha_optimo, beta_optimo = resultado.x\n",
    "\n",
    "print(\"Alpha óptimo:\", alpha_optimo)\n",
    "print(\"Beta óptimo:\", beta_optimo)\n",
    "print(\"Error porcentual mínimo:\", resultado.fun, \"%\")\n"
   ]
  },
  {
   "cell_type": "code",
   "execution_count": null,
   "metadata": {},
   "outputs": [
    {
     "name": "stdout",
     "output_type": "stream",
     "text": [
      "Alpha óptimo: 0.2340077400172927\n",
      "Beta óptimo: 0.23636817764117415\n",
      "Error porcentual mínimo: 3.479691915495465e-07 %\n"
     ]
    }
   ],
   "source": [
    "from scipy.optimize import minimize\n",
    "import pandas as pd\n",
    "\n",
    "# Suponiendo que tienes un DataFrame llamado df con las columnas 'GHI', 'cloud_opacity', 'air_temp' y 'Producción_fotovoltaica_SFV'\n",
    "\n",
    "def error_porcentual(alpha_beta):\n",
    "    alpha, beta = alpha_beta\n",
    "    efficiency = 0.2094  # Eficiencia del panel solar\n",
    "    cantidad_pv = 30\n",
    "    area = 2.274 * 1.134\n",
    "    P_cloud_opacity_temp = df['GHI'] * efficiency * area * cantidad_pv * (1 - beta * df['cloud_opacity']) * (1 - alpha * df['air_temp'])\n",
    "    energia = P_cloud_opacity_temp * (5 / 60)\n",
    "    error = abs(energia.sum() - df['Producción_fotovoltaica_SFV'].sum()) / df['Producción_fotovoltaica_SFV'].sum() * 100\n",
    "    return error\n",
    "\n",
    "# Suponiendo que tienes valores iniciales para alpha y beta\n",
    "alpha_init = 0.1\n",
    "beta_init = 0.1\n",
    "initial_guess = [alpha_init, beta_init]\n",
    "\n",
    "# Definiendo las restricciones para alpha y beta\n",
    "bounds = [(0, 1), (0, 1)]\n",
    "\n",
    "resultado = minimize(error_porcentual, initial_guess, bounds=bounds)\n",
    "alpha_optimo, beta_optimo = resultado.x\n",
    "\n",
    "print(\"Alpha óptimo:\", alpha_optimo)\n",
    "print(\"Beta óptimo:\", beta_optimo)\n",
    "print(\"Error porcentual mínimo:\", resultado.fun, \"%\")\n"
   ]
  }
 ],
 "metadata": {
  "kernelspec": {
   "display_name": "Python 3",
   "language": "python",
   "name": "python3"
  },
  "language_info": {
   "codemirror_mode": {
    "name": "ipython",
    "version": 3
   },
   "file_extension": ".py",
   "mimetype": "text/x-python",
   "name": "python",
   "nbconvert_exporter": "python",
   "pygments_lexer": "ipython3",
   "version": "3.11.7"
  }
 },
 "nbformat": 4,
 "nbformat_minor": 2
}
