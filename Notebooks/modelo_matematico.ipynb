{
 "cells": [
  {
   "cell_type": "markdown",
   "metadata": {},
   "source": [
    "## Análisis del modelo matematico propuesto"
   ]
  },
  {
   "cell_type": "code",
   "execution_count": 4,
   "metadata": {},
   "outputs": [],
   "source": [
    "# -*- coding: utf-8 -*-\n",
    "import pandas as pd\n",
    "import numpy as np\n",
    "import matplotlib.pyplot as plt\n",
    "#  Cargar los datos del archivo CSV\n",
    "df_SFV = pd.read_csv('../Data/Cleaned/SFV_2023.csv', sep=',')\n",
    "df_solcast = pd.read_csv('../Data/Cleaned/solcast_2023.csv', sep=',')"
   ]
  },
  {
   "cell_type": "code",
   "execution_count": 5,
   "metadata": {},
   "outputs": [],
   "source": [
    "#  Cargar los datos del archivo CSV\n",
    "Fecha = '2023-04-12'\n",
    "df_SFV = pd.read_csv('../Data/Cleaned/SFV_2023.csv', sep=',')\n",
    "df_solcast = pd.read_csv('../Data/Cleaned/solcast_2023.csv', sep=',')\n",
    "row_day_solcast = df_solcast.loc[df_solcast['Date'] == Fecha]\n",
    "row_day_fronius = df_SFV.loc[df_SFV['Date'] == Fecha]\n",
    "# reiniciar el index\n",
    "row_day_solcast = row_day_solcast.reset_index(drop=True)\n",
    "row_day_fronius = row_day_fronius.reset_index(drop=True)\n",
    "# Odenernar row_day_solcast de menor a mayor hora\n",
    "row_day_solcast = row_day_solcast.sort_values(by='Time')\n",
    "row_day_solcast = row_day_solcast.reset_index(drop=True)\n",
    "# Crear un nuevo dataframe con los datos de solcast y fronius a partir del indice \n",
    "df = pd.DataFrame()\n",
    "df['Time'] = row_day_solcast['Time']\n",
    "df['GHI'] = row_day_solcast['GHI']\n",
    "df['air_temp'] = row_day_solcast['air_temp']\n",
    "df['cloud_opacity'] = row_day_solcast['cloud_opacity']\n",
    "df['Producción_fotovoltaica_SFV'] = row_day_fronius['Producción_fotovoltaica_SFV']"
   ]
  },
  {
   "cell_type": "code",
   "execution_count": 6,
   "metadata": {},
   "outputs": [
    {
     "data": {
      "application/vnd.jupyter.widget-view+json": {
       "model_id": "693bbcbf49fd4133bd40c78db77c22a0",
       "version_major": 2,
       "version_minor": 0
      },
      "text/plain": [
       "interactive(children=(FloatSlider(value=0.1, description='alpha:', max=1.0), FloatSlider(value=0.3, descriptio…"
      ]
     },
     "metadata": {},
     "output_type": "display_data"
    },
    {
     "data": {
      "text/plain": [
       "<function __main__.plot_signal(alpha, beta)>"
      ]
     },
     "execution_count": 6,
     "metadata": {},
     "output_type": "execute_result"
    }
   ],
   "source": [
    "import numpy as np\n",
    "import matplotlib.pyplot as plt\n",
    "from ipywidgets import interact, widgets\n",
    "\n",
    "#  Cargar los datos del archivo CSV\n",
    "import ipywidgets as widgets\n",
    "from IPython.display import display\n",
    "\n",
    "def plot_signal(alpha, beta):\n",
    "    #Parametros SFV\n",
    "    efficiency = 0.2094  # Eficiencia del panel solar\n",
    "    catidad_pv= 30\n",
    "    area =2.274*1.134\n",
    "    \n",
    "    # normalizar 'cloud_opacity' de 0 a 1  en donde 1 es el valor más alto\n",
    "    df['cloud_opacity'] = df['cloud_opacity'] / df['cloud_opacity'].max()\n",
    "    # normalizar 'air_temp' de 0 a 1  en donde 1 es el valor más alto\n",
    "    df['air_temp'] = df['air_temp'] / df['air_temp'].max()\n",
    "    \n",
    "    \n",
    "    # Energía calculada a partir de Solcast \n",
    "    df['P_cloud_opacity_temp'] = df['GHI'] * efficiency *  area * catidad_pv * (1 - beta*df['cloud_opacity']) * (1 - alpha*df['air_temp'])\n",
    "\n",
    "    # Energía calculada a partir de Fronius\n",
    "    df['Potencia'] = df['Producción_fotovoltaica_SFV'] / (5/60)\n",
    "    \n",
    "    plt.figure(figsize=(15, 4))\n",
    "    plt.plot(df['Time'], df['P_cloud_opacity_temp'], label='Solcast')\n",
    "    plt.plot(df['Time'], df['Potencia'], label='Fronius')\n",
    "    # grafico area bajo la curva\n",
    "    plt.fill_between(df['Time'], df['P_cloud_opacity_temp'], df['Potencia'], color='gray', alpha=0.2)\n",
    "    plt.title(f'Producción fotovoltaica calculada de {Fecha} con: Alpha={alpha}, Beta={beta}  \\nE = Irr * efficiency *  area * catidad_pv * (1-beta * N) * (1-alpha*T) * Delta_t')\n",
    "    plt.xlabel('Tiempo')\n",
    "    plt.ylabel('Amplitud')\n",
    "    plt.legend()\n",
    "    plt.xticks([100, 150, 200])\n",
    "    # plt.grid(True)\n",
    "    plt.show()\n",
    "    # Energía calculada a partir de Fronius\n",
    "    energia_fronius = df['Producción_fotovoltaica_SFV'].sum()\n",
    "    # Horas de brillo solar\n",
    "    hbs = energia_fronius / (30*0.54)\n",
    "    print(\"Horas de brillo solar =\", hbs/1000)\n",
    "    print(\"Producción fotovoltaica SVF [kWh/día] =\",energia_fronius/1000)\n",
    "    # suma de la potencia generada solcast\n",
    "    energia = df['P_cloud_opacity_temp']*(5/60)\n",
    "    print(\"Energía calculada solacast [kWh/día] =\",energia.sum()/1000)\n",
    "    # error porcentual\n",
    "    error = abs(  energia.sum() - energia_fronius.sum()) / energia_fronius.sum() * 100\n",
    "    print('Error porcentual:', error, '%')\n",
    "\n",
    "# Definir sliders\n",
    "amplitude_slider = widgets.FloatSlider(value=0.1, min=0, max=1, step=0.1, description='alpha:')\n",
    "frequency_slider = widgets.FloatSlider(value=0.3, min=0, max=1, step=0.1, description='beta:')\n",
    "\n",
    "# Crear la interfaz interactiva\n",
    "interact(plot_signal, alpha=amplitude_slider, beta=frequency_slider)"
   ]
  },
  {
   "cell_type": "markdown",
   "metadata": {},
   "source": [
    "## Optimización"
   ]
  },
  {
   "cell_type": "code",
   "execution_count": 7,
   "metadata": {},
   "outputs": [
    {
     "name": "stdout",
     "output_type": "stream",
     "text": [
      "Alpha óptimo: 0.14727246282426731\n",
      "Beta óptimo: 0.14727251612862577\n",
      "Error porcentual mínimo: 2.4653492768838043e-09 %\n"
     ]
    }
   ],
   "source": [
    "from scipy.optimize import minimize\n",
    "\n",
    "def error_porcentual(alpha_beta):\n",
    "    alpha, beta = alpha_beta\n",
    "    efficiency = 0.2094  # Eficiencia del panel solar\n",
    "    catidad_pv= 30\n",
    "    area =2.274*1.134\n",
    "    P_cloud_opacity_temp = df['GHI'] * efficiency * area * catidad_pv * (1 - beta * df['cloud_opacity']) * (1 - alpha * df['air_temp'])\n",
    "    energia = P_cloud_opacity_temp * (5/60)\n",
    "    error = abs(energia.sum() - df['Producción_fotovoltaica_SFV'].sum()) / df['Producción_fotovoltaica_SFV'].sum() * 100\n",
    "    return error\n",
    "\n",
    "# Suponiendo que tienes valores iniciales para alpha y beta\n",
    "alpha_init = 0.1\n",
    "beta_init = 0.1\n",
    "initial_guess = [alpha_init, beta_init]\n",
    "\n",
    "resultado = minimize(error_porcentual, initial_guess, bounds=((0, 1), (0, 1)))\n",
    "alpha_optimo, beta_optimo = resultado.x\n",
    "\n",
    "print(\"Alpha óptimo:\", alpha_optimo)\n",
    "print(\"Beta óptimo:\", beta_optimo)\n",
    "print(\"Error porcentual mínimo:\", resultado.fun, \"%\")\n"
   ]
  },
  {
   "cell_type": "code",
   "execution_count": 8,
   "metadata": {},
   "outputs": [
    {
     "name": "stdout",
     "output_type": "stream",
     "text": [
      "Alpha óptimo: 0.14727246282426731\n",
      "Beta óptimo: 0.14727251612862577\n",
      "Error porcentual mínimo: 2.4653492768838043e-09 %\n"
     ]
    }
   ],
   "source": [
    "from scipy.optimize import minimize\n",
    "import pandas as pd\n",
    "\n",
    "# Suponiendo que tienes un DataFrame llamado df con las columnas 'GHI', 'cloud_opacity', 'air_temp' y 'Producción_fotovoltaica_SFV'\n",
    "\n",
    "def error_porcentual(alpha_beta):\n",
    "    alpha, beta = alpha_beta\n",
    "    efficiency = 0.2094  # Eficiencia del panel solar\n",
    "    cantidad_pv = 30\n",
    "    area = 2.274 * 1.134\n",
    "    P_cloud_opacity_temp = df['GHI'] * efficiency * area * cantidad_pv * (1 - beta * df['cloud_opacity']) * (1 - alpha * df['air_temp'])\n",
    "    energia = P_cloud_opacity_temp * (5 / 60)\n",
    "    error = abs(energia.sum() - df['Producción_fotovoltaica_SFV'].sum()) / df['Producción_fotovoltaica_SFV'].sum() * 100\n",
    "    return error\n",
    "\n",
    "# Suponiendo que tienes valores iniciales para alpha y beta\n",
    "alpha_init = 0.1\n",
    "beta_init = 0.1\n",
    "initial_guess = [alpha_init, beta_init]\n",
    "\n",
    "# Definiendo las restricciones para alpha y beta\n",
    "bounds = [(0, 1), (0, 1)]\n",
    "\n",
    "resultado = minimize(error_porcentual, initial_guess, bounds=bounds)\n",
    "alpha_optimo, beta_optimo = resultado.x\n",
    "\n",
    "print(\"Alpha óptimo:\", alpha_optimo)\n",
    "print(\"Beta óptimo:\", beta_optimo)\n",
    "print(\"Error porcentual mínimo:\", resultado.fun, \"%\")\n"
   ]
  }
 ],
 "metadata": {
  "kernelspec": {
   "display_name": "Python 3",
   "language": "python",
   "name": "python3"
  },
  "language_info": {
   "codemirror_mode": {
    "name": "ipython",
    "version": 3
   },
   "file_extension": ".py",
   "mimetype": "text/x-python",
   "name": "python",
   "nbconvert_exporter": "python",
   "pygments_lexer": "ipython3",
   "version": "3.11.7"
  }
 },
 "nbformat": 4,
 "nbformat_minor": 2
}
