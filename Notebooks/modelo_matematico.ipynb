{
 "cells": [
  {
   "cell_type": "markdown",
   "metadata": {},
   "source": [
    "## Análisis del modelo matematico propuesto"
   ]
  },
  {
   "cell_type": "code",
   "execution_count": 70,
   "metadata": {},
   "outputs": [],
   "source": [
    "# -*- coding: utf-8 -*-\n",
    "import pandas as pd\n",
    "import numpy as np\n",
    "import matplotlib.pyplot as plt\n",
    "#  Cargar los datos del archivo CSV\n",
    "df_SFV = pd.read_csv('../Data/Cleaned/SFV_2023.csv', sep=',')\n",
    "df_solcast = pd.read_csv('../Data/Cleaned/solcast_2023.csv', sep=',')"
   ]
  },
  {
   "cell_type": "code",
   "execution_count": 76,
   "metadata": {},
   "outputs": [],
   "source": [
    "#  Cargar los datos del archivo CSV\n",
    "Fecha = '2023-05-05'\n",
    "df_SFV = pd.read_csv('../Data/Cleaned/SFV_2023.csv', sep=',')\n",
    "df_solcast = pd.read_csv('../Data/Cleaned/solcast_2023.csv', sep=',')\n",
    "row_day_solcast = df_solcast.loc[df_solcast['Date'] == Fecha]\n",
    "row_day_fronius = df_SFV.loc[df_SFV['Date'] == Fecha]\n",
    "# reiniciar el index\n",
    "row_day_solcast = row_day_solcast.reset_index(drop=True)\n",
    "row_day_fronius = row_day_fronius.reset_index(drop=True)\n",
    "# Odenernar row_day_solcast de menor a mayor hora\n",
    "row_day_solcast = row_day_solcast.sort_values(by='Time')\n",
    "row_day_solcast = row_day_solcast.reset_index(drop=True)\n",
    "# Crear un nuevo dataframe con los datos de solcast y fronius a partir del indice \n",
    "df = pd.DataFrame()\n",
    "df['Time'] = row_day_solcast['Time']\n",
    "df['GHI'] = row_day_solcast['GHI']\n",
    "df['air_temp'] = row_day_solcast['air_temp']\n",
    "df['cloud_opacity'] = row_day_solcast['cloud_opacity']\n",
    "df['Producción_fotovoltaica_SFV'] = row_day_fronius['Producción_fotovoltaica_SFV']"
   ]
  },
  {
   "cell_type": "code",
   "execution_count": 77,
   "metadata": {},
   "outputs": [
    {
     "data": {
      "application/vnd.jupyter.widget-view+json": {
       "model_id": "dd8e8d242d4b410489c6a4f57df7db63",
       "version_major": 2,
       "version_minor": 0
      },
      "text/plain": [
       "interactive(children=(FloatSlider(value=0.5, description='alpha:', max=1.0), FloatSlider(value=0.5, descriptio…"
      ]
     },
     "metadata": {},
     "output_type": "display_data"
    },
    {
     "data": {
      "text/plain": [
       "<function __main__.plot_signal(alpha, beta)>"
      ]
     },
     "execution_count": 77,
     "metadata": {},
     "output_type": "execute_result"
    }
   ],
   "source": [
    "import numpy as np\n",
    "import matplotlib.pyplot as plt\n",
    "from ipywidgets import interact, widgets\n",
    "\n",
    "#  Cargar los datos del archivo CSV\n",
    "import ipywidgets as widgets\n",
    "from IPython.display import display\n",
    "\n",
    "def plot_signal(alpha, beta):\n",
    "    #Parametros SFV\n",
    "    efficiency = 0.2094  # Eficiencia del panel solar\n",
    "    catidad_pv= 30\n",
    "    area =2.274*1.134\n",
    "    \n",
    "    # normalizar 'cloud_opacity' de 0 a 1  en donde 1 es el valor más alto\n",
    "    df['cloud_opacity'] = df['cloud_opacity'] / df['cloud_opacity'].max()\n",
    "    # normalizar 'air_temp' de 0 a 1  en donde 1 es el valor más alto\n",
    "    df['air_temp'] = df['air_temp'] / df['air_temp'].max()\n",
    "    \n",
    "    \n",
    "    # Energía calculada a partir de Solcast \n",
    "    df['P_cloud_opacity_temp'] = df['GHI'] * efficiency *  area * catidad_pv * (1 - beta*df['cloud_opacity']) * (1 - alpha*df['air_temp'])\n",
    "\n",
    "    # Energía calculada a partir de Fronius\n",
    "    df['Potencia'] = df['Producción_fotovoltaica_SFV'] / (5/60)\n",
    "    \n",
    "    plt.figure(figsize=(15, 4))\n",
    "    plt.plot(df['Time'], df['P_cloud_opacity_temp'], label='Solcast')\n",
    "    plt.plot(df['Time'], df['Potencia'], label='Fronius')\n",
    "    # grafico area bajo la curva\n",
    "    plt.fill_between(df['Time'], df['P_cloud_opacity_temp'], df['Potencia'], color='gray', alpha=0.2)\n",
    "    plt.title(f'Producción fotovoltaica calculada de {Fecha} con: Alpha={alpha}, Beta={beta}  \\nP = Irr * efficiency *  area * catidad_pv * (1-beta * N) * (1-alpha*T)')\n",
    "    plt.xlabel('Tiempo')\n",
    "    plt.ylabel('Amplitud')\n",
    "    plt.legend()\n",
    "    plt.xticks([100, 150, 200])\n",
    "    # plt.grid(True)\n",
    "    plt.show()\n",
    "    # Energía calculada a partir de Fronius\n",
    "    energia_fronius = df['Producción_fotovoltaica_SFV'].sum()\n",
    "    # Horas de brillo solar\n",
    "    hbs = energia_fronius / (30*0.54)\n",
    "    print(\"Horas de brillo solar =\", hbs/1000)\n",
    "    print(\"Producción fotovoltaica SVF [kWh/día] =\",energia_fronius/1000)\n",
    "    # suma de la potencia generada solcast\n",
    "    energia = df['P_cloud_opacity_temp']*(5/60)\n",
    "    print(\"Energía calculada solacast [kWh] =\",energia.sum()/1000)\n",
    "    # error porcentual\n",
    "    error = abs(  energia.sum() - energia_fronius.sum()) / energia_fronius.sum() * 100\n",
    "    print('Error porcentual:', error, '%')\n",
    "\n",
    "# Definir sliders\n",
    "amplitude_slider = widgets.FloatSlider(value=0.5, min=0, max=1, step=0.1, description='alpha:')\n",
    "frequency_slider = widgets.FloatSlider(value=0.5, min=0, max=1, step=0.1, description='beta:')\n",
    "\n",
    "# Crear la interfaz interactiva\n",
    "interact(plot_signal, alpha=amplitude_slider, beta=frequency_slider)"
   ]
  }
 ],
 "metadata": {
  "kernelspec": {
   "display_name": "Python 3",
   "language": "python",
   "name": "python3"
  },
  "language_info": {
   "codemirror_mode": {
    "name": "ipython",
    "version": 3
   },
   "file_extension": ".py",
   "mimetype": "text/x-python",
   "name": "python",
   "nbconvert_exporter": "python",
   "pygments_lexer": "ipython3",
   "version": "3.11.7"
  }
 },
 "nbformat": 4,
 "nbformat_minor": 2
}
