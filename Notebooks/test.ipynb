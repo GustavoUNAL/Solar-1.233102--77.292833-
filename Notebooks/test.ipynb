{
 "cells": [
  {
   "cell_type": "markdown",
   "metadata": {},
   "source": [
    "## Datos Para entrenar red neuronal\n"
   ]
  },
  {
   "cell_type": "code",
   "execution_count": 5,
   "metadata": {},
   "outputs": [
    {
     "name": "stdout",
     "output_type": "stream",
     "text": [
      "[0.0, 0.2, 0.4, 0.2, 0.4, 0.5, 0.6, 0.3, 0.4, 0.1, 0.4, 0.4, 0.4, 0.1, 0.2, 0.7, 0.6, 0.3, 1.0, 0.1, 0.6]\n",
      "[143.35525498438406, 74.36646894173451, 130.3588899702267, 74.15055258376864, 161.60389001848938, 183.767501158681, 97.28539823356904, 113.92722094201304, 413.79870651551033, 91.557596688379, 130.3588899702267, 109.64088173789912, 101.82379801716046, 219.87243806728603, 244.99774633402205, 115.76420660427966, 51.42473229831966, 113.92722094201304, 24.232146733698272, 155.12205803252058, 123.5717371930328]\n"
     ]
    }
   ],
   "source": [
    "# -*- coding: utf-8 -*-\n",
    "import pandas as pd\n",
    "import numpy as np\n",
    "import matplotlib.pyplot as plt\n",
    "#  Cargar los datos del archivo CSV\n",
    "df = pd.read_csv('datos_variables.csv', sep=',')\n",
    "# print(df.head())\n",
    "\n",
    "# convertir la columna beta en una lista\n",
    "beta = df['beta'].values.tolist()\n",
    "print(beta)\n",
    "\n",
    "# convertir la columna error_clearsky_solacast en una lista\n",
    "error_clearsky_solacast = df['error_clearsky_solacast'].values.tolist()\n",
    "print(error_clearsky_solacast)\n",
    "\n"
   ]
  },
  {
   "cell_type": "code",
   "execution_count": 33,
   "metadata": {},
   "outputs": [
    {
     "data": {
      "application/vnd.jupyter.widget-view+json": {
       "model_id": "e069d0f16ba340d28bf10a103acd0c64",
       "version_major": 2,
       "version_minor": 0
      },
      "text/plain": [
       "interactive(children=(FloatSlider(value=1.0, description='Amplitud:', max=5.0), FloatSlider(value=1.0, descrip…"
      ]
     },
     "metadata": {},
     "output_type": "display_data"
    },
    {
     "data": {
      "text/plain": [
       "<function __main__.plot_signal(amplitude, frequency)>"
      ]
     },
     "execution_count": 33,
     "metadata": {},
     "output_type": "execute_result"
    }
   ],
   "source": [
    "import numpy as np\n",
    "import matplotlib.pyplot as plt\n",
    "from ipywidgets import interact, widgets\n",
    "\n",
    "def plot_signal(amplitude, frequency):\n",
    "    t = np.linspace(0, 1, 1000)\n",
    "    signal = amplitude * np.sin(2 * np.pi * frequency * t)\n",
    "    \n",
    "    plt.figure(figsize=(8, 3))\n",
    "    plt.plot(t, signal)\n",
    "    plt.title(f'Señal sinusoidal: Amplitud={amplitude}, Frecuencia={frequency}')\n",
    "    plt.xlabel('Tiempo')\n",
    "    plt.ylabel('Amplitud')\n",
    "    plt.grid(True)\n",
    "    plt.show()\n",
    "\n",
    "# Definir sliders\n",
    "amplitude_slider = widgets.FloatSlider(value=1, min=0, max=5, step=0.1, description='Amplitud:')\n",
    "frequency_slider = widgets.FloatSlider(value=1, min=0, max=10, step=0.1, description='Frecuencia:')\n",
    "\n",
    "# Crear la interfaz interactiva\n",
    "interact(plot_signal, amplitude=amplitude_slider, frequency=frequency_slider)\n"
   ]
  },
  {
   "cell_type": "markdown",
   "metadata": {},
   "source": [
    "## Análisis del modelo matematico propuesto"
   ]
  },
  {
   "cell_type": "code",
   "execution_count": 34,
   "metadata": {},
   "outputs": [],
   "source": [
    "# -*- coding: utf-8 -*-\n",
    "import pandas as pd\n",
    "import numpy as np\n",
    "import matplotlib.pyplot as plt"
   ]
  },
  {
   "cell_type": "code",
   "execution_count": 43,
   "metadata": {},
   "outputs": [],
   "source": [
    "#  Cargar los datos del archivo CSV\n",
    "df_SFV = pd.read_csv('../Data/Cleaned/SFV_2023.csv', sep=',')\n",
    "df_solcast = pd.read_csv('../Data/Cleaned/solcast_2023.csv', sep=',')\n",
    "Fecha = '2023-01-07'\n",
    "row_day_solcast = df_solcast.loc[df_solcast['Date'] == Fecha]\n",
    "row_day_fronius = df_SFV.loc[df_SFV['Date'] == Fecha]\n",
    "# reiniciar el index\n",
    "row_day_solcast = row_day_solcast.reset_index(drop=True)\n",
    "row_day_fronius = row_day_fronius.reset_index(drop=True)\n",
    "# Odenernar row_day_solcast de menor a mayor hora\n",
    "row_day_solcast = row_day_solcast.sort_values(by='Time')\n",
    "row_day_solcast = row_day_solcast.reset_index(drop=True)\n",
    "# Crear un nuevo dataframe con los datos de solcast y fronius a partir del indice \n",
    "df = pd.DataFrame()\n",
    "df['Time'] = row_day_solcast['Time']\n",
    "df['GHI'] = row_day_solcast['GHI']\n",
    "df['air_temp'] = row_day_solcast['air_temp']\n",
    "df['cloud_opacity'] = row_day_solcast['cloud_opacity']\n",
    "df['Producción_fotovoltaica_SFV'] = row_day_fronius['Producción_fotovoltaica_SFV']"
   ]
  },
  {
   "cell_type": "code",
   "execution_count": 48,
   "metadata": {},
   "outputs": [
    {
     "data": {
      "application/vnd.jupyter.widget-view+json": {
       "model_id": "1c3a76f330694922af98a88393669c53",
       "version_major": 2,
       "version_minor": 0
      },
      "text/plain": [
       "interactive(children=(FloatSlider(value=0.5, description='alpha:', max=1.0), FloatSlider(value=0.5, descriptio…"
      ]
     },
     "metadata": {},
     "output_type": "display_data"
    },
    {
     "data": {
      "text/plain": [
       "<function __main__.plot_signal(alpha, beta)>"
      ]
     },
     "execution_count": 48,
     "metadata": {},
     "output_type": "execute_result"
    }
   ],
   "source": [
    "import numpy as np\n",
    "import matplotlib.pyplot as plt\n",
    "from ipywidgets import interact, widgets\n",
    "\n",
    "def plot_signal(alpha, beta):\n",
    "    #Parametros SFV\n",
    "    efficiency = 0.2094  # Eficiencia del panel solar\n",
    "    catidad_pv= 30\n",
    "    area =2.274*1.134\n",
    "    \n",
    "    # normalizar 'cloud_opacity' de 0 a 1  en donde 1 es el valor más alto\n",
    "    df['cloud_opacity'] = df['cloud_opacity'] / df['cloud_opacity'].max()\n",
    "    # normalizar 'air_temp' de 0 a 1  en donde 1 es el valor más alto\n",
    "    df['air_temp'] = df['air_temp'] / df['air_temp'].max()\n",
    "    \n",
    "    \n",
    "    # Energía calculada a partir de Solcast \n",
    "    df['P_cloud_opacity_temp'] = df['GHI'] * efficiency *  area * catidad_pv * (1 - beta*df['cloud_opacity']) * (1 - alpha*df['air_temp'])\n",
    "\n",
    "    # Energía calculada a partir de Fronius\n",
    "    df['Potencia'] = df['Producción_fotovoltaica_SFV'] / (5/60)\n",
    "    \n",
    "    plt.figure(figsize=(15, 4))\n",
    "    plt.plot(df['Time'], df['P_cloud_opacity_temp'], label='Solcast')\n",
    "    plt.plot(df['Time'], df['Potencia'], label='Fronius')\n",
    "    # grafico area bajo la curva\n",
    "    plt.fill_between(df['Time'], df['P_cloud_opacity_temp'], df['Potencia'], color='gray', alpha=0.2)\n",
    "    plt.title(f'Producción fotovoltaica calculada con: Alpha={alpha}, Beta={beta}')\n",
    "    plt.xlabel('Tiempo')\n",
    "    plt.ylabel('Amplitud')\n",
    "    plt.legend()\n",
    "    plt.xticks([100, 150, 200])\n",
    "    # plt.grid(True)\n",
    "    plt.show()\n",
    "    # Energía calculada a partir de Fronius\n",
    "    energia_fronius = df['Producción_fotovoltaica_SFV'].sum()\n",
    "    # Horas de brillo solar\n",
    "    hbs = energia_fronius / (30*0.54)\n",
    "    print(\"Horas de brillo solar =\", hbs/1000)\n",
    "    print(\"Producción fotovoltaica SVF [kWh/día] =\",energia_fronius/1000)\n",
    "    # suma de la potencia generada solcast\n",
    "    energia = df['P_cloud_opacity_temp']*(5/60)\n",
    "    print(\"Energía calculada solacast [kWh] =\",energia.sum()/1000)\n",
    "    # error porcentual\n",
    "    error = abs(  energia.sum() - energia_fronius.sum()) / energia_fronius.sum() * 100\n",
    "    print('Error porcentual:', error, '%')\n",
    "\n",
    "# Definir sliders\n",
    "amplitude_slider = widgets.FloatSlider(value=0.5, min=0, max=1, step=0.1, description='alpha:')\n",
    "frequency_slider = widgets.FloatSlider(value=0.5, min=0, max=1, step=0.1, description='beta:')\n",
    "\n",
    "# Crear la interfaz interactiva\n",
    "interact(plot_signal, alpha=amplitude_slider, beta=frequency_slider)"
   ]
  },
  {
   "cell_type": "code",
   "execution_count": 49,
   "metadata": {},
   "outputs": [
    {
     "data": {
      "application/vnd.jupyter.widget-view+json": {
       "model_id": "458094271a22487e81422a41c79340df",
       "version_major": 2,
       "version_minor": 0
      },
      "text/plain": [
       "interactive(children=(FloatSlider(value=1.0, description='Amplitud:', max=5.0), FloatSlider(value=1.0, descrip…"
      ]
     },
     "metadata": {},
     "output_type": "display_data"
    },
    {
     "data": {
      "text/plain": [
       "<function __main__.plot_signal(amplitude, frequency, selected_date)>"
      ]
     },
     "execution_count": 49,
     "metadata": {},
     "output_type": "execute_result"
    }
   ],
   "source": [
    "import numpy as np\n",
    "import matplotlib.pyplot as plt\n",
    "from ipywidgets import interact, widgets, DatePicker\n",
    "\n",
    "def plot_signal(amplitude, frequency, selected_date):\n",
    "    t = np.linspace(0, 1, 1000)\n",
    "    signal = amplitude * np.sin(2 * np.pi * frequency * t)\n",
    "    \n",
    "    plt.figure(figsize=(8, 6))\n",
    "    plt.plot(t, signal)\n",
    "    plt.title(f'Señal sinusoidal: Amplitud={amplitude}, Frecuencia={frequency}, Fecha seleccionada: {selected_date}')\n",
    "    plt.xlabel('Tiempo')\n",
    "    plt.ylabel('Amplitud')\n",
    "    plt.grid(True)\n",
    "    plt.show()\n",
    "\n",
    "# Definir sliders\n",
    "amplitude_slider = widgets.FloatSlider(value=1, min=0, max=5, step=0.1, description='Amplitud:')\n",
    "frequency_slider = widgets.FloatSlider(value=1, min=0, max=10, step=0.1, description='Frecuencia:')\n",
    "date_picker = DatePicker(description='Fecha:')\n",
    "\n",
    "# Crear la interfaz interactiva\n",
    "interact(plot_signal, amplitude=amplitude_slider, frequency=frequency_slider, selected_date=date_picker)\n"
   ]
  }
 ],
 "metadata": {
  "kernelspec": {
   "display_name": "Python 3",
   "language": "python",
   "name": "python3"
  },
  "language_info": {
   "codemirror_mode": {
    "name": "ipython",
    "version": 3
   },
   "file_extension": ".py",
   "mimetype": "text/x-python",
   "name": "python",
   "nbconvert_exporter": "python",
   "pygments_lexer": "ipython3",
   "version": "3.11.7"
  }
 },
 "nbformat": 4,
 "nbformat_minor": 2
}
