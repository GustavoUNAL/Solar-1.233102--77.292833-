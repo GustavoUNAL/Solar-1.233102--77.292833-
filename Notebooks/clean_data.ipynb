{
 "cells": [
  {
   "cell_type": "markdown",
   "metadata": {},
   "source": [
    "## CLEAN DATA"
   ]
  },
  {
   "cell_type": "code",
   "execution_count": 2,
   "metadata": {},
   "outputs": [],
   "source": [
    "# -*- coding: utf-8 -*-\n",
    "import pandas as pd\n",
    "import numpy as np\n",
    "import matplotlib.pyplot as plt"
   ]
  },
  {
   "cell_type": "markdown",
   "metadata": {},
   "source": [
    "# SFV ☀️ "
   ]
  },
  {
   "cell_type": "markdown",
   "metadata": {},
   "source": [
    "## Lectura DB inversor Fronius 2023-1"
   ]
  },
  {
   "cell_type": "code",
   "execution_count": 32,
   "metadata": {},
   "outputs": [],
   "source": [
    "#  Cargar los datos del archivo CSV\n",
    "df_SFV = pd.read_csv('../Data/Raw/SFV.csv', sep=',')\n",
    "# En la columna 'Fecha y hora' convertir a formato fecha \"%d.%m.%Y %H:%M\"\n",
    "df_SFV['Fecha y hora'] = pd.to_datetime(df_SFV['Fecha y hora'], format='%d.%m.%Y %H:%M')\n",
    "# Crear una columna solo con la fecha y otra con la hora\n",
    "df_SFV['Fecha'] = df_SFV['Fecha y hora'].dt.date\n",
    "df_SFV['Hora'] = df_SFV['Fecha y hora'].dt.time\n",
    "#En la columna 'Hora' solo mostrar horas y minutos\n",
    "df_SFV['Hora'] = df_SFV['Fecha y hora'].dt.strftime('%H:%M')\n",
    "#En la columna 'Fecha' solo mostrar año, mes y día\n",
    "df_SFV['Fecha'] = df_SFV['Fecha y hora'].dt.strftime('%Y-%m-%d')\n",
    "# cambiar el nombre de las columnas 'Fecha' por 'Date' y 'Hora' por 'Time'\n",
    "df_SFV = df_SFV.rename(columns={'Fecha': 'Date', 'Hora': 'Time'})\n",
    "# borrando la columna 'Fecha y hora'\n",
    "df_SFV = df_SFV.drop(['Fecha y hora'], axis=1)\n",
    "# cambiar el nombre de la columna 'Producción fotovoltaica' a 'Producción_fotovoltaica_SFV'\n",
    "df_SFV = df_SFV.rename(columns={'Producción fotovoltaica': 'Producción_fotovoltaica_SFV'})\n",
    "\n",
    "# guardar el archivo CSV\n",
    "df_SFV.to_csv('../Data/Cleaned/SFV_2023-1.csv', index=False)"
   ]
  },
  {
   "cell_type": "markdown",
   "metadata": {},
   "source": [
    "## Lectura DB inversor Fronius 2023-2"
   ]
  },
  {
   "cell_type": "code",
   "execution_count": 33,
   "metadata": {},
   "outputs": [],
   "source": [
    "#  Cargar los datos del archivo CSV\n",
    "df_SFV2 = pd.read_csv('../Data/Raw/SFV2.csv', sep=';')\n",
    "# En la columna 'Fecha y hora' convertir a formato fecha \"%d.%m.%Y %H:%M\"\n",
    "df_SFV2['Fecha y hora'] = pd.to_datetime(df_SFV2['Fecha y hora'], format='%d.%m.%Y %H:%M')\n",
    "# Crear una columna solo con la fecha y otra con la hora\n",
    "df_SFV2['Fecha'] = df_SFV2['Fecha y hora'].dt.date\n",
    "df_SFV2['Hora'] = df_SFV2['Fecha y hora'].dt.time\n",
    "#En la columna 'Hora' solo mostrar horas y minutos\n",
    "df_SFV2['Hora'] = df_SFV2['Fecha y hora'].dt.strftime('%H:%M')\n",
    "#En la columna 'Fecha' solo mostrar año, mes y día\n",
    "df_SFV2['Fecha'] = df_SFV2['Fecha y hora'].dt.strftime('%Y-%m-%d')\n",
    "# cambiar el nombre de las columnas 'Fecha' por 'Date' y 'Hora' por 'Time'\n",
    "df_SFV2 = df_SFV2.rename(columns={'Fecha': 'Date', 'Hora': 'Time'})\n",
    "# borrando la columna 'Fecha y hora'\n",
    "df_SFV2 = df_SFV2.drop(['Fecha y hora'], axis=1)\n",
    "# cambiar el nombre de la columna 'Producción fotovoltaica' a 'Producción_fotovoltaica_SFV'\n",
    "df_SFV2 = df_SFV2.rename(columns={'Producción fotovoltaica': 'Producción_fotovoltaica_SFV'})\n",
    "\n",
    "# en todas las columnas cambiar las comas por puntos\n",
    "df_SFV2 = df_SFV2.replace({',': '.'}, regex=True)\n",
    "# borrar columna Unnamed: 8\n",
    "df_SFV2 = df_SFV2.drop(['Unnamed: 8'], axis=1)\n",
    "# print(df_SFV2.head())\n",
    "#borrar los espacios en blanco en las columnas\n",
    "df_SFV2.columns = df_SFV2.columns.str.strip()\n",
    "# borrar los espacios de cada columna\n",
    "df_SFV2 = df_SFV2.apply(lambda x: x.str.strip() if x.dtype == \"object\" else x)\n",
    "\n",
    "# # guardar el archivo CSV\n",
    "df_SFV2.to_csv('../Data/Cleaned/SFV_2023-2.csv', index=False)"
   ]
  },
  {
   "cell_type": "markdown",
   "metadata": {},
   "source": [
    "# Un solo archivo para el 20023"
   ]
  },
  {
   "cell_type": "code",
   "execution_count": 37,
   "metadata": {},
   "outputs": [],
   "source": [
    "# columnas del dataframe df_SFV\n",
    "# print(df_SFV.columns)\n",
    "# print(\"**************\")\n",
    "# print(df_SFV2.columns)\n",
    "\n",
    "df_SFV = df_SFV[df_SFV2.columns]\n",
    "# print(df_SFV.columns)\n",
    "# print(\"**********************\")\n",
    "# print(df_SFV2.columns)\n",
    "\n",
    "\n",
    "# borrar en df_SFV las columnas que no esten en df_SFV2\n",
    "# df_SFV = df_SFV.drop(['Unnamed: 8'], axis=1)\n",
    "# print(df_SFV.columns)\n",
    "\n",
    "\n",
    "# unir los dos dataframes\n",
    "df_SFV = pd.concat([df_SFV, df_SFV2], ignore_index=True)\n",
    "# guardar el archivo CSV\n",
    "df_SFV.to_csv('../Data/Cleaned/SFV_2023.csv', index=False)"
   ]
  },
  {
   "cell_type": "markdown",
   "metadata": {},
   "source": [
    "# 🛰️\n"
   ]
  },
  {
   "cell_type": "markdown",
   "metadata": {},
   "source": [
    "## Lectura DB Solcast "
   ]
  },
  {
   "cell_type": "code",
   "execution_count": 6,
   "metadata": {},
   "outputs": [
    {
     "name": "stderr",
     "output_type": "stream",
     "text": [
      "/var/folders/pz/w3bcsy5x2wgb_7c0fs6qmkp80000gn/T/ipykernel_29620/1235754838.py:12: UserWarning: Could not infer format, so each element will be parsed individually, falling back to `dateutil`. To ensure parsing is consistent and as-expected, please specify a format.\n",
      "  df_solcast['UTC'] = pd.to_datetime(df_solcast['Time'])\n"
     ]
    },
    {
     "name": "stdout",
     "output_type": "stream",
     "text": [
      "(105408, 12)\n"
     ]
    }
   ],
   "source": [
    "# Cargar los datos del archivo CSV\n",
    "df_solcast = pd.read_csv('../Data/Raw/solcast_allParameters_2023_PT5M.csv', sep=',')\n",
    "# Cambiar el nombre de la columna 'dni' a 'DHI'\n",
    "df_solcast = df_solcast.rename(columns={'dni': 'DHI'})\n",
    "# Cambiar el nombre de la columna 'ghi' a 'GHI'\n",
    "df_solcast = df_solcast.rename(columns={'ghi': 'GHI'})\n",
    "# Extraer los 4 caracteres siguientes a la letra 'T' en la columna 'PeriodEnd'\n",
    "df_solcast['Time'] = df_solcast['period_end'].str.extract('T(\\\\d{2}:\\\\d{2})')\n",
    "# Extraer los 10 caracteres anteriores a la letra 'T' en la columna 'PeriodEnd'\n",
    "df_solcast['Date'] = df_solcast['period_end'].str.extract('(\\\\d{4}-\\\\d{2}-\\\\d{2})')\n",
    "#convertir a zona horaria de Colombia\n",
    "df_solcast['UTC'] = pd.to_datetime(df_solcast['Time'])\n",
    "# # Configura la zona horaria a UTC\n",
    "df_solcast['UTC'] = df_solcast['UTC'].dt.tz_localize('UTC')\n",
    "# # Convierte a la zona horaria de Colombia\n",
    "df_solcast['Time_Colombia'] = df_solcast['UTC'].dt.tz_convert('America/Bogota')\n",
    "# Convertir la columna 'Time_Colombia' a tipo string\n",
    "df_solcast['Time_Colombia'] = df_solcast['Time_Colombia'].astype(str)\n",
    "# Extraer los 4 caracteres después de los primeros 10 caracteres\n",
    "df_solcast['Extracted'] = df_solcast['Time_Colombia'].str.slice(10, 16)\n",
    "# delete the column 'Time_Colombia'\n",
    "del df_solcast['Time_Colombia']\n",
    "# delete the column 'UTC'\n",
    "del df_solcast['UTC']\n",
    "# delete the column 'Time'\n",
    "del df_solcast['Time']\n",
    "#rename the column 'Extracted' to 'Time'\n",
    "df_solcast.rename(columns={'Extracted': 'Time'}, inplace=True)\n",
    "\n",
    "print(df_solcast.shape)\n",
    "\n",
    "# guardar el archivo CSV\n",
    "df_solcast.to_csv('../Data/Cleaned/solcast_2023.csv', index=False)"
   ]
  }
 ],
 "metadata": {
  "kernelspec": {
   "display_name": "current_env",
   "language": "python",
   "name": "python3"
  },
  "language_info": {
   "codemirror_mode": {
    "name": "ipython",
    "version": 3
   },
   "file_extension": ".py",
   "mimetype": "text/x-python",
   "name": "python",
   "nbconvert_exporter": "python",
   "pygments_lexer": "ipython3",
   "version": "3.12.0"
  }
 },
 "nbformat": 4,
 "nbformat_minor": 2
}
